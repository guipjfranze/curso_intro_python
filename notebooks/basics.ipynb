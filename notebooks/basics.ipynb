{
 "cells": [
  {
   "cell_type": "markdown",
   "metadata": {},
   "source": [
    "# 1. Introduction\n",
    "\n",
    "\n",
    "Examples of text editors for Python:\n",
    "\n",
    "|   |   | \n",
    "|:-:|:-:|\n",
    "| Jupyter Notebook | <img src=\"../data/images/jupy_logo.png\" width=\"80\" height=\"100\">|\n",
    "| Sublime | <img src=\"../data/images/sublime_logo.jpg\" width=\"40\" height=\"80\"> |\n",
    "| Spyder | <img src=\"../data/images/spyder_logo.png\" width=\"40\"> |\n",
    "    \n"
   ]
  },
  {
   "cell_type": "code",
   "execution_count": null,
   "metadata": {
    "ExecuteTime": {
     "end_time": "2019-08-15T23:56:11.570386Z",
     "start_time": "2019-08-15T23:56:11.555617Z"
    }
   },
   "outputs": [],
   "source": [
    "print(\"Hello world.\") #debbuging purposes"
   ]
  },
  {
   "cell_type": "markdown",
   "metadata": {},
   "source": [
    "# 2. Tuples, Strings, Loops"
   ]
  },
  {
   "cell_type": "code",
   "execution_count": null,
   "metadata": {
    "ExecuteTime": {
     "end_time": "2019-08-15T23:56:11.892298Z",
     "start_time": "2019-08-15T23:56:11.888037Z"
    }
   },
   "outputs": [],
   "source": [
    "# Tuples and Strings\n",
    "programming_languages = \"Python\", \"Java\", \"C++\", \"Matlab\"\n",
    "# Printing the variable\n",
    "print(type(programming_languages))\n",
    "# Looping \n",
    "for language in programming_languages:\n",
    "    print(language)"
   ]
  },
  {
   "cell_type": "markdown",
   "metadata": {},
   "source": [
    "### Tic Tac Toe Game Project\n",
    "\n",
    "<img src=\"../data/images/tictactoe.png\" width=\"120\">"
   ]
  },
  {
   "cell_type": "code",
   "execution_count": null,
   "metadata": {
    "ExecuteTime": {
     "end_time": "2019-08-15T23:56:12.229024Z",
     "start_time": "2019-08-15T23:56:12.223725Z"
    }
   },
   "outputs": [],
   "source": [
    "# Lists\n",
    "\n",
    "# Defining game board variable\n",
    "game = [[0, 0, 0],\n",
    "        [0, 0, 0],\n",
    "        [0, 0, 0]]\n",
    "print(type(game),game) # Display"
   ]
  },
  {
   "cell_type": "code",
   "execution_count": null,
   "metadata": {
    "ExecuteTime": {
     "end_time": "2019-08-15T23:56:12.392581Z",
     "start_time": "2019-08-15T23:56:12.389582Z"
    }
   },
   "outputs": [],
   "source": [
    "# Display visually\n",
    "for row in game:\n",
    "    print(row)"
   ]
  },
  {
   "cell_type": "code",
   "execution_count": null,
   "metadata": {
    "ExecuteTime": {
     "end_time": "2019-08-15T23:56:12.568020Z",
     "start_time": "2019-08-15T23:56:12.562986Z"
    }
   },
   "outputs": [],
   "source": [
    "# Display visually\n",
    "print(\"   0  1  2\")\n",
    "count = 0\n",
    "for row in game:\n",
    "    print(count, row)\n",
    "    count = count + 1 # count+=1"
   ]
  },
  {
   "cell_type": "code",
   "execution_count": null,
   "metadata": {
    "ExecuteTime": {
     "end_time": "2019-08-15T23:56:12.733884Z",
     "start_time": "2019-08-15T23:56:12.730074Z"
    }
   },
   "outputs": [],
   "source": [
    "# Using built-in functions\n",
    "print(\"   a  b  c\")\n",
    "for index, row in enumerate(game):\n",
    "    print(index, row)"
   ]
  },
  {
   "cell_type": "code",
   "execution_count": null,
   "metadata": {
    "ExecuteTime": {
     "end_time": "2019-08-15T23:56:12.907801Z",
     "start_time": "2019-08-15T23:56:12.902828Z"
    }
   },
   "outputs": [],
   "source": [
    "# QUICK OVERVIEW \n",
    "\n",
    "# Indexes and slices\n",
    "l = [1,2,3,4,5,6,7]\n",
    "# Reference an index of a list\n",
    "print(l[0])\n",
    "# Reference a slice of a list\n",
    "print(l[1:3])\n",
    "# Modify a list by index\n",
    "print(l)\n",
    "l[2] = 100\n",
    "print(l)"
   ]
  },
  {
   "cell_type": "code",
   "execution_count": null,
   "metadata": {
    "ExecuteTime": {
     "end_time": "2019-08-15T23:56:13.062512Z",
     "start_time": "2019-08-15T23:56:13.056630Z"
    }
   },
   "outputs": [],
   "source": [
    "# Indexes and slices\n",
    "\n",
    "# Defining game board variable\n",
    "game = [[0, 0, 0],\n",
    "        [0, 0, 0],\n",
    "        [0, 0, 0]]\n",
    "\n",
    "# Modify item in the board game\n",
    "game[0][1] = 1\n",
    "\n",
    "# Printing the board game\n",
    "print(\"   a  b  c\")\n",
    "for index, row in enumerate(game):\n",
    "    print(index, row)"
   ]
  },
  {
   "cell_type": "code",
   "execution_count": null,
   "metadata": {
    "ExecuteTime": {
     "end_time": "2019-08-15T23:56:13.219028Z",
     "start_time": "2019-08-15T23:56:13.213007Z"
    }
   },
   "outputs": [],
   "source": [
    "# Functions\n",
    "\n",
    "# Defining game board variable\n",
    "game = [[0, 0, 0],\n",
    "        [0, 0, 0],\n",
    "        [0, 0, 0]]\n",
    "\n",
    "# Defining a function to print the board game\n",
    "def game_board():\n",
    "    print(\"   a  b  c\")\n",
    "    for index, row in enumerate(game):\n",
    "        print(index, row)\n",
    "\n",
    "# Calling the function to print the board game\n",
    "game_board()\n",
    "\n",
    "# Modify item in the board game\n",
    "game[2][0] = 1\n",
    "\n",
    "# Printing the board game\n",
    "game_board()"
   ]
  },
  {
   "cell_type": "code",
   "execution_count": null,
   "metadata": {
    "ExecuteTime": {
     "end_time": "2019-08-15T23:56:13.386581Z",
     "start_time": "2019-08-15T23:56:13.373688Z"
    }
   },
   "outputs": [],
   "source": [
    "# Function Parameters and typing\n",
    "\n",
    "# Addition function to test the examplify the parameters\n",
    "def addition(x,y):\n",
    "    return x+y\n",
    "# Running the addition function\n",
    "result = addition(1,3)\n",
    "# Printing the result variable\n",
    "print(result)\n",
    "\n",
    "# Defining game board variable\n",
    "game = [[0, 0, 0],\n",
    "        [0, 0, 0],\n",
    "        [0, 0, 0]]\n",
    "\n",
    "# Defining a function to print the board game \n",
    "# with parameters\n",
    "def game_board(player=0, row=0, column=0):\n",
    "    game[row][column] = player\n",
    "    print(\"   a  b  c\")\n",
    "    for index, row in enumerate(game):\n",
    "        print(index, row)\n",
    "\n",
    "# Calling the function\n",
    "game_board(player=1, row=2, column=1)\n",
    "\n",
    "# Defining game board variable\n",
    "game = [[0, 0, 0],\n",
    "        [0, 0, 0],\n",
    "        [0, 0, 0]]\n",
    "\n",
    "# Improving the function to print the board game \n",
    "# with parameters only if the user wants\n",
    "def game_board(player=0, row=0, column=0, \n",
    "               just_display=False):\n",
    "    if not just_display:\n",
    "        game[row][column] = player\n",
    "    print(\"   a  b  c\")\n",
    "    for index, row in enumerate(game):\n",
    "        print(index, row)\n",
    "\n",
    "# Calling the function\n",
    "game_board(just_display=True)\n",
    "game_board(player=1, row=1, column=1)"
   ]
  },
  {
   "cell_type": "code",
   "execution_count": null,
   "metadata": {
    "ExecuteTime": {
     "end_time": "2019-08-15T23:56:13.560895Z",
     "start_time": "2019-08-15T23:56:13.548837Z"
    }
   },
   "outputs": [],
   "source": [
    "# Mutability Revisited\n",
    "\n",
    "# Defining game board variable\n",
    "example = \"Simple example\"\n",
    "\n",
    "# Improving the function to print the board game \n",
    "# with parameters only if the user wants\n",
    "def example_function():\n",
    "    example = \"Simple example hacked!\"\n",
    "    #print(example)\n",
    "    \n",
    "# Calling the function\n",
    "print(example)\n",
    "example_function()\n",
    "print(example)\n",
    "\n",
    "# Defining game board variable\n",
    "game = [[0, 0, 0],\n",
    "        [0, 0, 0],\n",
    "        [0, 0, 0]]\n",
    "\n",
    "# Improving the function to print the board game \n",
    "# with parameters only if the user wants\n",
    "def game_board(game_map, player=0, row=0, column=0, \n",
    "               just_display=False):\n",
    "    if not just_display:\n",
    "        game_map[row][column] = player\n",
    "    print(\"   a  b  c\")\n",
    "    for index, row in enumerate(game_map):\n",
    "        print(index, row)\n",
    "    # Returning variable with updated values\n",
    "    return game_map\n",
    "\n",
    "# Calling the function\n",
    "game = game_board(game, just_display=True)\n",
    "game = game_board(game, player=1, row=1, column=1)"
   ]
  },
  {
   "cell_type": "code",
   "execution_count": null,
   "metadata": {
    "ExecuteTime": {
     "end_time": "2019-08-16T00:04:47.834553Z",
     "start_time": "2019-08-16T00:04:47.829053Z"
    }
   },
   "outputs": [],
   "source": [
    "# Error Handling\n",
    "\n",
    "# Trying to run the code forcing some error\n",
    "# game = game_board(game, player=1, row=5, column=1)\n",
    "\n",
    "# Including the try/except statment into the game \n",
    "# board function in order to avoid errors\n",
    "def game_board(game_map, player=0, row=0, column=0, \n",
    "               just_display=False):\n",
    "    try:\n",
    "        if not just_display:\n",
    "            game_map[row][column] = player\n",
    "        print(\"   a  b  c\")\n",
    "        for index, row in enumerate(game_map):\n",
    "            print(index, row)\n",
    "        # Returning variable with updated values\n",
    "        return game_map\n",
    "    except:\n",
    "        print('Something went wrong!!!')\n",
    "#     except Exception as e:\n",
    "#         print(\"Did you input row/column as 0, 1 or 2?\")\n",
    "#         print(\"[ERROR]: \" + str(e))\n",
    "\n",
    "# Forcing some error again\n",
    "game = game_board(game, player=1, row=5, column=1)"
   ]
  },
  {
   "cell_type": "code",
   "execution_count": null,
   "metadata": {
    "ExecuteTime": {
     "end_time": "2019-08-16T00:26:50.952849Z",
     "start_time": "2019-08-16T00:26:50.944354Z"
    }
   },
   "outputs": [],
   "source": [
    "# Calculating horizontal winner\n",
    "\n",
    "# Defining game board variable\n",
    "game = [[1, 1, 1],\n",
    "        [0, 1, 0],\n",
    "        [2, 2, 0]]\n",
    "\n",
    "# Creating a function to check horizontal victories:\n",
    "def win(current_game):\n",
    "    for row in game:\n",
    "        print(row)\n",
    "        col1 = row[0]\n",
    "        col2 = row[1]\n",
    "        col3 = row[2]\n",
    "        if col1 == col2 == col3:\n",
    "            print('Winner!!!')\n",
    "            \n",
    "# Running the function to check for horizontally \n",
    "# winners\n",
    "win(game)\n",
    "\n",
    "# Performing dynamic verification\n",
    "def win(current_game):\n",
    "    for row in game:\n",
    "        print(row)\n",
    "        not_match = True\n",
    "        for item in row: \n",
    "            if item != row[0]:\n",
    "                not_match = False\n",
    "        if not_match and row[0] != 0:\n",
    "            print(\"Winner\")\n",
    "# Running the function to check for horizontally \n",
    "win(game)"
   ]
  },
  {
   "cell_type": "code",
   "execution_count": null,
   "metadata": {
    "ExecuteTime": {
     "end_time": "2019-08-16T00:35:11.894018Z",
     "start_time": "2019-08-16T00:35:11.879780Z"
    }
   },
   "outputs": [],
   "source": [
    "# Calculating vertical winner\n",
    "\n",
    "# Defining game board variable\n",
    "game = [[2, 1, 1],\n",
    "        [2, 1, 0],\n",
    "        [2, 2, 0]]\n",
    "\n",
    "# Iterating first column of the game board\n",
    "check = []\n",
    "for row in game:\n",
    "    print(row[0])\n",
    "    check.append(row[0])\n",
    "    \n",
    "# Checking number of occurrences of value\n",
    "if check.count(check[0]) == len(check) and check[0] != 0:\n",
    "    print(\"Winner!\")\n",
    "\n",
    "\n",
    "# Iterating all the column of the game board using\n",
    "# bult-in functions in python: range() and len()\n",
    "for column in range(len(game)):\n",
    "    check = []\n",
    "    for row in game:\n",
    "        print(row[column])\n",
    "        check.append(row[column])\n",
    "\n",
    "    # Checking number of occurrences of value\n",
    "    if check.count(check[column]) == len(check) and check[column] != 0:\n",
    "        print(\"Winner!\")"
   ]
  },
  {
   "cell_type": "code",
   "execution_count": null,
   "metadata": {
    "ExecuteTime": {
     "end_time": "2019-08-16T01:47:56.334537Z",
     "start_time": "2019-08-16T01:47:56.323708Z"
    }
   },
   "outputs": [],
   "source": [
    "# Calculating diagonal winner\n",
    "\n",
    "# Defining game board variable\n",
    "game = [[2, 1, 1],\n",
    "        [1, 2, 0],\n",
    "        [2, 0, 2]]\n",
    "\n",
    "# Checking if there is any diagonal winner manually\n",
    "if game[0][0] == game[1][1] == game[2][2]:\n",
    "    print(\"Winner\")\n",
    "if game[2][0] == game[1][1] == game[0][2]:\n",
    "    print(\"Winner\")\n",
    "    \n",
    "# Making the dynamical checking\n",
    "diags = []\n",
    "for ix in range(len(game)):\n",
    "    diags.append(game[ix][ix])\n",
    "print(diags)\n",
    "if diags.count(diags[column]) == len(diags) and diags[0] != 0:\n",
    "    print(f\"Player {diags[0]} is the winner diagonally!\")\n",
    "\n",
    "\n",
    "\n",
    "# Using bult-in function to reverse the \n",
    "cols = reversed(range(len(game)))\n",
    "rows = range(len(game))\n",
    "diags = []\n",
    "for row,col in zip(rows, cols):\n",
    "    print(row, col)\n",
    "    diags.append(game[row][col])\n",
    "if diags.count(diags[0]) == len(diags) and diags[0] != 0:\n",
    "    print(f\"Player {diags[0]} is the winner diagonally!\")\n"
   ]
  },
  {
   "cell_type": "code",
   "execution_count": null,
   "metadata": {
    "ExecuteTime": {
     "end_time": "2019-08-16T02:17:26.299648Z",
     "start_time": "2019-08-16T02:16:37.896315Z"
    }
   },
   "outputs": [],
   "source": [
    "# Brings things together - Iterators/Iterables\n",
    "import itertools\n",
    "\n",
    "# Defining game board variable\n",
    "game = [[1, 1, 2],\n",
    "        [1, 2, 0],\n",
    "        [2, 0, 2]]\n",
    "\n",
    "# Performing dynamic verification\n",
    "def win(current_game):\n",
    "    # --- HORIZONTAL ---\n",
    "    for row in game:\n",
    "        not_match = True\n",
    "        for item in row: \n",
    "            if item != row[0]:\n",
    "                not_match = False\n",
    "        if not_match and row[0] != 0:\n",
    "            print(f\"Player {row[0]} is the winner horizontally (-)\")\n",
    "\n",
    "            \n",
    "    # --- VERTICAL ---\n",
    "    # Iterating all the column of the game board using\n",
    "    # bult-in functions in python: range() and len()\n",
    "    for column in range(len(current_game)):\n",
    "        check = []\n",
    "        for row in current_game:\n",
    "            check.append(row[column])\n",
    "\n",
    "        # Checking number of occurrences of value\n",
    "        if check.count(check[column]) == len(check) and check[column] != 0:\n",
    "            print(f\"Player {check[0]} is the winner vertically (|)\")\n",
    "\n",
    "    # --- DIAGONAL ---\n",
    "    # Making the dynamical checking\n",
    "    diags = []\n",
    "    for ix in range(len(current_game)):\n",
    "        diags.append(current_game[ix][ix])\n",
    "    # Checking number of occurrences of value\n",
    "    if diags.count(diags[0]) == len(diags) and diags[0] != 0:\n",
    "        print(f\"Player {diags[0]} is the winner diagonally (\\\\)!\")\n",
    "\n",
    "    # Using bult-in function to reverse the \n",
    "    cols = reversed(range(len(current_game)))\n",
    "    rows = range(len(current_game))\n",
    "    diags = []\n",
    "    for row,col in zip(rows, cols):\n",
    "        diags.append(current_game[row][col])\n",
    "    if diags.count(diags[0]) == len(diags) and diags[0] != 0:\n",
    "        print(f\"Player {diags[0]} is the winner diagonally (/)!\")\n",
    "\n",
    "win(game)\n",
    "\n",
    "\n",
    "# Including the try/except statment into the game \n",
    "# board function in order to avoid errors\n",
    "def game_board(game_map, player=0, row=0, column=0, \n",
    "               just_display=False):\n",
    "    try:\n",
    "        if not just_display:\n",
    "            game_map[row][column] = player\n",
    "        print(\"   a  b  c\")\n",
    "        for index, row in enumerate(game_map):\n",
    "            print(index, row)\n",
    "        # Returning variable with updated values\n",
    "        return game_map\n",
    "    except Exception as e:\n",
    "        print(\"Did you input row/column as 0, 1 or 2?\")\n",
    "        print(\"[ERROR]: \" + str(e))\n",
    "\n",
    "play = True\n",
    "players = [1,2]\n",
    "while play:\n",
    "    # Defining game board variable\n",
    "    game = [[0, 0, 0],\n",
    "            [0, 0, 0],\n",
    "            [0, 0, 0]]\n",
    "    \n",
    "    # Defining winning variable\n",
    "    game_won = False\n",
    "    # Just display the game board\n",
    "    game = game_board(game, just_display=True)\n",
    "    # Defining the player choices\n",
    "    player_choice = itertools.cycle([1,2])\n",
    "    while not game_won:\n",
    "        # Inputing parameters\n",
    "        current_player = next(player_choice)\n",
    "        print(f'Current player: {current_player}')\n",
    "        column_choice = input(\"What column do you want to play? (0,1,2): \")\n",
    "        row_choice = input(\"What row do you want to play? (0,1,2): \")\n",
    "        # Playing the game\n",
    "        game = game_board(game, int(current_player), int(row_choice), int(column_choice))\n",
    "\n",
    "\n"
   ]
  },
  {
   "cell_type": "code",
   "execution_count": null,
   "metadata": {
    "ExecuteTime": {
     "end_time": "2019-08-16T02:45:48.102376Z",
     "start_time": "2019-08-16T02:45:04.951820Z"
    }
   },
   "outputs": [],
   "source": [
    "# Wrapping up Tic Tac Toe\n",
    "\n",
    "# Defining game board variable\n",
    "game = [[1, 1, 2],\n",
    "        [1, 2, 0],\n",
    "        [2, 0, 2]]\n",
    "\n",
    "# Performing dynamic verification\n",
    "def win(current_game):\n",
    "    \n",
    "    def all_same(l):\n",
    "        if l.count(l[column]) == len(l) and l[column] != 0:\n",
    "            return True\n",
    "        else:\n",
    "            return False\n",
    "        \n",
    "    # --- HORIZONTAL ---\n",
    "    for row in game:\n",
    "        not_match = True\n",
    "        for item in row: \n",
    "            if item != row[0]:\n",
    "                not_match = False\n",
    "        if not_match and row[0] != 0:\n",
    "            print(f\"Player {row[0]} is the winner horizontally (-)\")\n",
    "            return True\n",
    "            \n",
    "    # --- VERTICAL ---\n",
    "    # Iterating all the column of the game board using\n",
    "    # bult-in functions in python: range() and len()\n",
    "    for column in range(len(current_game)):\n",
    "        check = []\n",
    "        for row in current_game:\n",
    "            check.append(row[column])\n",
    "\n",
    "        # Checking number of occurrences of value\n",
    "        if all_same(check):\n",
    "            print(f\"Player {check[0]} is the winner vertically (|)\")\n",
    "            return True\n",
    "        \n",
    "    # --- DIAGONAL ---\n",
    "    # Making the dynamical checking\n",
    "    diags = []\n",
    "    for ix in range(len(current_game)):\n",
    "        diags.append(current_game[ix][ix])\n",
    "    # Checking number of occurrences of value\n",
    "    if all_same(diags):\n",
    "        print(f\"Player {diags[0]} is the winner diagonally (\\\\)!\")\n",
    "        return True\n",
    "    \n",
    "    # Using bult-in function to reverse the \n",
    "    cols = reversed(range(len(current_game)))\n",
    "    rows = range(len(current_game))\n",
    "    diags = []\n",
    "    for row,col in zip(rows, cols):\n",
    "        diags.append(current_game[row][col])\n",
    "    if all_same(diags):\n",
    "        print(f\"Player {diags[0]} is the winner diagonally (/)!\")\n",
    "        return True\n",
    "    \n",
    "    # If there is no win, return False\n",
    "    return False\n",
    "\n",
    "# Including the try/except statment into the game \n",
    "# board function in order to avoid errors\n",
    "def game_board(game_map, player=0, row=0, column=0, \n",
    "               just_display=False):\n",
    "    try:\n",
    "        if game_map[row][column] != 0:\n",
    "            print(\"This position is occupied! Choose another\")\n",
    "            return game_map, False\n",
    "        if not just_display:\n",
    "            game_map[row][column] = player\n",
    "        print(\"   a  b  c\")\n",
    "        for index, row in enumerate(game_map):\n",
    "            print(index, row)\n",
    "        # Returning variable with updated values\n",
    "        return game_map, True\n",
    "    except Exception as e:\n",
    "        print(\"Did you input row/column as 0, 1 or 2?\")\n",
    "        print(\"[ERROR]: \" + str(e))\n",
    "        return game_map, False\n",
    "\n",
    "play = True\n",
    "players = [1,2]\n",
    "while play:\n",
    "    # Defining game board variable\n",
    "    game = [[0, 0, 0],\n",
    "            [0, 0, 0],\n",
    "            [0, 0, 0]]\n",
    "    \n",
    "    # Defining winning variable\n",
    "    game_won = False\n",
    "    # Just display the game board\n",
    "    game, _ = game_board(game, just_display=True)\n",
    "    # Defining the player choices\n",
    "    player_choice = itertools.cycle([1,2])\n",
    "    while not game_won:\n",
    "        # Inputing parameters\n",
    "        current_player = next(player_choice)\n",
    "        print(f'Current player: {current_player}')\n",
    "        played = False\n",
    "        \n",
    "        while not played:\n",
    "            column_choice = input(\"What column do you want to play? (0,1,2): \")\n",
    "            row_choice = input(\"What row do you want to play? (0,1,2): \")\n",
    "            # Playing the game\n",
    "            game, played = game_board(game, int(current_player), int(row_choice), int(column_choice))\n",
    "        \n",
    "        if win(game):\n",
    "            game_won = True\n",
    "            again = input(\"The game is over. Would you like to play again?\")\n",
    "            if again.lower() in ['yes', 'y']:\n",
    "                print('restarting...\\n')\n",
    "            elif again.lower() in ['no', 'n']:\n",
    "                print('Byeee ...')\n",
    "                play = False\n",
    "            else:\n",
    "                print(\"Not a valid answer, so... see you later\")\n",
    "\n",
    "                \n"
   ]
  },
  {
   "cell_type": "markdown",
   "metadata": {},
   "source": [
    "# Any doubts? \n",
    "\n",
    "You can always search for good content in https://pythonprogramming.net/horizontal-winner-learn-python-3-tutorials/"
   ]
  },
  {
   "cell_type": "code",
   "execution_count": null,
   "metadata": {},
   "outputs": [],
   "source": []
  }
 ],
 "metadata": {
  "kernelspec": {
   "display_name": "Python 3",
   "language": "python",
   "name": "python3"
  },
  "language_info": {
   "codemirror_mode": {
    "name": "ipython",
    "version": 3
   },
   "file_extension": ".py",
   "mimetype": "text/x-python",
   "name": "python",
   "nbconvert_exporter": "python",
   "pygments_lexer": "ipython3",
   "version": "3.7.3"
  }
 },
 "nbformat": 4,
 "nbformat_minor": 2
}
