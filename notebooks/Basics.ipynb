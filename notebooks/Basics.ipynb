{
 "cells": [
  {
   "cell_type": "markdown",
   "metadata": {},
   "source": [
    "# 1. Introduction\n",
    "\n",
    "\n",
    "Examples of text editors for Python:\n",
    "\n",
    "|   |   | \n",
    "|:-:|:-:|\n",
    "| Jupyter Notebook | <img src=\"../data/images/jupy_logo.png\" width=\"80\" height=\"100\">|\n",
    "| Sublime | <img src=\"../data/images/sublime_logo.jpg\" width=\"40\" height=\"80\"> |\n",
    "| Spyder | <img src=\"../data/images/spyder_logo.png\" width=\"40\"> |\n",
    "    \n"
   ]
  },
  {
   "cell_type": "code",
   "execution_count": 1,
   "metadata": {
    "ExecuteTime": {
     "end_time": "2019-08-10T19:00:37.301022Z",
     "start_time": "2019-08-10T19:00:37.295827Z"
    }
   },
   "outputs": [
    {
     "name": "stdout",
     "output_type": "stream",
     "text": [
      "Hello world.\n"
     ]
    }
   ],
   "source": [
    "print(\"Hello world.\") #debbuging purposes"
   ]
  },
  {
   "cell_type": "markdown",
   "metadata": {},
   "source": [
    "# 2. Tuples, Strings, Loops"
   ]
  },
  {
   "cell_type": "code",
   "execution_count": 6,
   "metadata": {
    "ExecuteTime": {
     "end_time": "2019-08-10T19:36:03.430371Z",
     "start_time": "2019-08-10T19:36:03.424956Z"
    }
   },
   "outputs": [
    {
     "name": "stdout",
     "output_type": "stream",
     "text": [
      "<class 'tuple'>\n",
      "Python\n",
      "Java\n",
      "C++\n",
      "Matlab\n"
     ]
    }
   ],
   "source": [
    "# Tuples and Strings\n",
    "programming_languages = \"Python\", \"Java\", \"C++\", \"Matlab\"\n",
    "# Printing the variable\n",
    "print(type(programming_languages))\n",
    "# Looping \n",
    "for language in programming_languages:\n",
    "    print(language)"
   ]
  },
  {
   "cell_type": "markdown",
   "metadata": {},
   "source": [
    "### Tic Tac Toe Game Project\n",
    "\n",
    "<img src=\"../data/images/tictactoe.png\" width=\"120\">"
   ]
  },
  {
   "cell_type": "code",
   "execution_count": 10,
   "metadata": {
    "ExecuteTime": {
     "end_time": "2019-08-10T19:54:51.713268Z",
     "start_time": "2019-08-10T19:54:51.709575Z"
    }
   },
   "outputs": [
    {
     "name": "stdout",
     "output_type": "stream",
     "text": [
      "<class 'list'> [[0, 0, 0], [0, 0, 0], [0, 0, 0]]\n"
     ]
    }
   ],
   "source": [
    "# Lists\n",
    "\n",
    "# Defining game board variable\n",
    "game = [[0, 0, 0],\n",
    "        [0, 0, 0],\n",
    "        [0, 0, 0]]\n",
    "print(type(game),game) # Display"
   ]
  },
  {
   "cell_type": "code",
   "execution_count": 11,
   "metadata": {
    "ExecuteTime": {
     "end_time": "2019-08-10T19:54:52.996053Z",
     "start_time": "2019-08-10T19:54:52.991831Z"
    }
   },
   "outputs": [
    {
     "name": "stdout",
     "output_type": "stream",
     "text": [
      "[0, 0, 0]\n",
      "[0, 0, 0]\n",
      "[0, 0, 0]\n"
     ]
    }
   ],
   "source": [
    "# Display visually\n",
    "for row in game:\n",
    "    print(row)"
   ]
  },
  {
   "cell_type": "code",
   "execution_count": 15,
   "metadata": {
    "ExecuteTime": {
     "end_time": "2019-08-10T19:55:41.961897Z",
     "start_time": "2019-08-10T19:55:41.956717Z"
    }
   },
   "outputs": [
    {
     "name": "stdout",
     "output_type": "stream",
     "text": [
      "   0  1  2\n",
      "0 [0, 0, 0]\n",
      "1 [0, 0, 0]\n",
      "2 [0, 0, 0]\n"
     ]
    }
   ],
   "source": [
    "# Display visually\n",
    "print(\"   0  1  2\")\n",
    "count = 0\n",
    "for row in game:\n",
    "    print(count, row)\n",
    "    count = count + 1 # count+=1"
   ]
  },
  {
   "cell_type": "code",
   "execution_count": 18,
   "metadata": {
    "ExecuteTime": {
     "end_time": "2019-08-10T20:00:42.272480Z",
     "start_time": "2019-08-10T20:00:42.267511Z"
    }
   },
   "outputs": [
    {
     "name": "stdout",
     "output_type": "stream",
     "text": [
      "   a  b  c\n",
      "0 [0, 0, 0]\n",
      "1 [0, 0, 0]\n",
      "2 [0, 0, 0]\n"
     ]
    }
   ],
   "source": [
    "# Using built-in functions\n",
    "print(\"   a  b  c\")\n",
    "for index, row in enumerate(game):\n",
    "    print(index, row)"
   ]
  },
  {
   "cell_type": "code",
   "execution_count": 21,
   "metadata": {
    "ExecuteTime": {
     "end_time": "2019-08-10T22:39:01.272909Z",
     "start_time": "2019-08-10T22:39:01.267251Z"
    }
   },
   "outputs": [
    {
     "name": "stdout",
     "output_type": "stream",
     "text": [
      "1\n",
      "[2, 3]\n",
      "[1, 2, 3, 4, 5, 6, 7]\n",
      "[1, 2, 100, 4, 5, 6, 7]\n"
     ]
    }
   ],
   "source": [
    "# QUICK OVERVIEW \n",
    "\n",
    "# Indexes and slices\n",
    "l = [1,2,3,4,5,6,7]\n",
    "# Reference an index of a list\n",
    "print(l[0])\n",
    "# Reference a slice of a list\n",
    "print(l[1:3])\n",
    "# Modify a list by index\n",
    "print(l)\n",
    "l[2] = 100\n",
    "print(l)"
   ]
  },
  {
   "cell_type": "code",
   "execution_count": 25,
   "metadata": {
    "ExecuteTime": {
     "end_time": "2019-08-10T22:41:39.065833Z",
     "start_time": "2019-08-10T22:41:39.059581Z"
    }
   },
   "outputs": [
    {
     "name": "stdout",
     "output_type": "stream",
     "text": [
      "   a  b  c\n",
      "0 [0, 1, 0]\n",
      "1 [0, 0, 0]\n",
      "2 [0, 0, 0]\n"
     ]
    }
   ],
   "source": [
    "# Indexes and slices\n",
    "\n",
    "# Defining game board variable\n",
    "game = [[0, 0, 0],\n",
    "        [0, 0, 0],\n",
    "        [0, 0, 0]]\n",
    "\n",
    "# Modify item in the board game\n",
    "game[0][1] = 1\n",
    "\n",
    "# Printing the board game\n",
    "print(\"   a  b  c\")\n",
    "for index, row in enumerate(game):\n",
    "    print(index, row)"
   ]
  },
  {
   "cell_type": "code",
   "execution_count": 31,
   "metadata": {
    "ExecuteTime": {
     "end_time": "2019-08-11T19:29:08.054585Z",
     "start_time": "2019-08-11T19:29:08.041337Z"
    }
   },
   "outputs": [
    {
     "name": "stdout",
     "output_type": "stream",
     "text": [
      "   a  b  c\n",
      "0 [0, 0, 0]\n",
      "1 [0, 0, 0]\n",
      "2 [0, 0, 0]\n",
      "   a  b  c\n",
      "0 [0, 0, 0]\n",
      "1 [0, 0, 0]\n",
      "2 [1, 0, 0]\n"
     ]
    }
   ],
   "source": [
    "# Functions\n",
    "\n",
    "# Defining game board variable\n",
    "game = [[0, 0, 0],\n",
    "        [0, 0, 0],\n",
    "        [0, 0, 0]]\n",
    "\n",
    "# Defining a function to print the board game\n",
    "def game_board(game):\n",
    "    print(\"   a  b  c\")\n",
    "    for index, row in enumerate(game):\n",
    "        print(index, row)\n",
    "\n",
    "# Calling the function to print the board game\n",
    "game_board(game)\n",
    "\n",
    "# Modify item in the board game\n",
    "game[2][0] = 1\n",
    "\n",
    "# Printing the board game\n",
    "game_board(game)"
   ]
  },
  {
   "cell_type": "code",
   "execution_count": null,
   "metadata": {
    "ExecuteTime": {
     "end_time": "2019-08-11T19:26:10.832710Z",
     "start_time": "2019-08-11T19:26:10.825423Z"
    }
   },
   "outputs": [],
   "source": []
  },
  {
   "cell_type": "code",
   "execution_count": null,
   "metadata": {},
   "outputs": [],
   "source": []
  }
 ],
 "metadata": {
  "kernelspec": {
   "display_name": "Python 3",
   "language": "python",
   "name": "python3"
  },
  "language_info": {
   "codemirror_mode": {
    "name": "ipython",
    "version": 3
   },
   "file_extension": ".py",
   "mimetype": "text/x-python",
   "name": "python",
   "nbconvert_exporter": "python",
   "pygments_lexer": "ipython3",
   "version": "3.7.3"
  }
 },
 "nbformat": 4,
 "nbformat_minor": 2
}
