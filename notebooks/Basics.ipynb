{
 "cells": [
  {
   "cell_type": "markdown",
   "metadata": {},
   "source": [
    "# 1. Introduction\n",
    "\n",
    "\n",
    "Examples of text editors for Python:\n",
    "\n",
    "|   |   | \n",
    "|:-:|:-:|\n",
    "| Jupyter Notebook | <img src=\"../data/images/jupy_logo.png\" width=\"80\" height=\"100\">|\n",
    "| Sublime | <img src=\"../data/images/sublime_logo.jpg\" width=\"40\" height=\"80\"> |\n",
    "| Spyder | <img src=\"../data/images/spyder_logo.png\" width=\"40\"> |\n",
    "    \n"
   ]
  },
  {
   "cell_type": "code",
   "execution_count": 1,
   "metadata": {
    "ExecuteTime": {
     "end_time": "2019-08-10T19:00:37.301022Z",
     "start_time": "2019-08-10T19:00:37.295827Z"
    }
   },
   "outputs": [
    {
     "name": "stdout",
     "output_type": "stream",
     "text": [
      "Hello world.\n"
     ]
    }
   ],
   "source": [
    "print(\"Hello world.\") #debbuging purposes"
   ]
  },
  {
   "cell_type": "code",
   "execution_count": null,
   "metadata": {},
   "outputs": [],
   "source": []
  }
 ],
 "metadata": {
  "kernelspec": {
   "display_name": "Python 3",
   "language": "python",
   "name": "python3"
  },
  "language_info": {
   "codemirror_mode": {
    "name": "ipython",
    "version": 3
   },
   "file_extension": ".py",
   "mimetype": "text/x-python",
   "name": "python",
   "nbconvert_exporter": "python",
   "pygments_lexer": "ipython3",
   "version": "3.7.3"
  }
 },
 "nbformat": 4,
 "nbformat_minor": 2
}
